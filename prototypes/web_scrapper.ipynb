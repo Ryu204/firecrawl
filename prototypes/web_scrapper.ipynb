{
 "cells": [
  {
   "cell_type": "code",
   "execution_count": null,
   "id": "0b8a0427",
   "metadata": {},
   "outputs": [
    {
     "name": "stdout",
     "output_type": "stream",
     "text": [
      "Writing front_end.py\n"
     ]
    }
   ],
   "source": [
    "%%writefile web_scrapper.py\n",
    "import streamlit as st\n",
    "\n",
    "# --- App setup ---\n",
    "st.set_page_config(\n",
    "    page_title=\"Scraper Dashboard\",\n",
    "    page_icon=\"🕷️\",\n",
    "    layout=\"centered\",\n",
    ")\n",
    "\n",
    "# --- Sidebar / Navigation ---\n",
    "with st.sidebar:\n",
    "    st.title(\"Navigation\")\n",
    "    section = st.radio(\"Go to\", [\"Collected\", \"Add\"])\n",
    "\n",
    "# --- Section: Collected ---\n",
    "if section == \"Collected\":\n",
    "    st.title(\"🗂️ Collected Domains\")\n",
    "\n",
    "    # Mock data (replace with your DB query)\n",
    "    collected_domains = [\"example.com\", \"foodblog.net\", \"newsportal.org\"]\n",
    "\n",
    "    if collected_domains:\n",
    "        st.markdown(\"**Collected Domains:**\")\n",
    "        st.markdown(\"\\n\".join([f\"- **{d}**\" for d in collected_domains]))\n",
    "    else:\n",
    "        st.info(\"No domains collected yet.\")\n",
    "\n",
    "# --- Section: Add ---\n",
    "elif section == \"Add\":\n",
    "    st.title(\"🌏 Add New Source\")\n",
    "    st.write(\"You can add a domain **or** a single page URL:\")\n",
    "\n",
    "    col1, col2, col3 = st.columns([1, 0.2, 1])\n",
    "    with col1:\n",
    "        domain = st.text_input(\"Domain\", placeholder=\"e.g. example.com\")\n",
    "    with col2:\n",
    "        st.markdown(\"#### OR\", help=\"Add either a domain or a page URL\")\n",
    "    with col3:\n",
    "        url = st.text_input(\"Page URL\", placeholder=\"e.g. https://example.com/article\")\n",
    "\n",
    "    if st.button(\"Add\", type=\"primary\", use_container_width=True):\n",
    "        if domain or url:\n",
    "            added = domain or url\n",
    "            st.success(f\"✅ Added: {added}\")\n",
    "            # TODO: insert into your database here\n",
    "        else:\n",
    "            st.warning(\"Please enter a domain or a URL.\")\n"
   ]
  }
 ],
 "metadata": {
  "kernelspec": {
   "display_name": ".venv",
   "language": "python",
   "name": "python3"
  },
  "language_info": {
   "codemirror_mode": {
    "name": "ipython",
    "version": 3
   },
   "file_extension": ".py",
   "mimetype": "text/x-python",
   "name": "python",
   "nbconvert_exporter": "python",
   "pygments_lexer": "ipython3",
   "version": "3.12.2"
  }
 },
 "nbformat": 4,
 "nbformat_minor": 5
}
