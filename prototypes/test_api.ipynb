{
 "cells": [
  {
   "cell_type": "code",
   "execution_count": 28,
   "id": "c2b5d757",
   "metadata": {},
   "outputs": [],
   "source": [
    "from firecrawl import Firecrawl\n",
    "\n",
    "firecrawl = Firecrawl(api_key=\"using-self-host\", api_url=\"http://localhost:3002\")"
   ]
  },
  {
   "cell_type": "code",
   "execution_count": null,
   "id": "589f69a4",
   "metadata": {},
   "outputs": [],
   "source": [
    "pageUrl = \"https://vnexpress.net/doi-song/cooking/mon-an/lau-chao-27283\"\n",
    "\n",
    "document = firecrawl.scrape(\n",
    "    pageUrl,\n",
    "    formats=[\"markdown\"],\n",
    "    only_main_content=True,\n",
    "    fast_mode=True,\n",
    "    headers={\"User-Agent\": \"firecrawl-test-agent\", \"Content-Type\": \"application/json\"},\n",
    ")"
   ]
  },
  {
   "cell_type": "code",
   "execution_count": null,
   "id": "89569559",
   "metadata": {},
   "outputs": [],
   "source": [
    "print(document.markdown)"
   ]
  }
 ],
 "metadata": {
  "kernelspec": {
   "display_name": ".venv",
   "language": "python",
   "name": "python3"
  },
  "language_info": {
   "codemirror_mode": {
    "name": "ipython",
    "version": 3
   },
   "file_extension": ".py",
   "mimetype": "text/x-python",
   "name": "python",
   "nbconvert_exporter": "python",
   "pygments_lexer": "ipython3",
   "version": "3.12.2"
  }
 },
 "nbformat": 4,
 "nbformat_minor": 5
}
